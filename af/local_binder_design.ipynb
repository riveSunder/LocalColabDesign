{
 "cells": [
  {
   "cell_type": "markdown",
   "metadata": {
    "colab_type": "text",
    "id": "view-in-github"
   },
   "source": [
    "<a href=\"https://colab.research.google.com/github/sokrypton/ColabDesign/blob/v1.1.1/af/design.ipynb\" target=\"_parent\"><img src=\"https://colab.research.google.com/assets/colab-badge.svg\" alt=\"Open In Colab\"/></a>"
   ]
  },
  {
   "cell_type": "markdown",
   "metadata": {
    "id": "OA2k3sAYuiXe"
   },
   "source": [
    "#AfDesign (v1.1.1)\n",
    "Backprop through AlphaFold for protein design.\n",
    "\n",
    "**WARNING**\n",
    "1.   This notebook is in active development and was designed for demonstration purposes only.\n",
    "2.   Using AfDesign as the only \"loss\" function for design might be a bad idea, you may find adversarial sequences (aka. sequences that trick AlphaFold)."
   ]
  },
  {
   "cell_type": "code",
   "execution_count": null,
   "metadata": {
    "cellView": "form",
    "id": "-AXy0s_4cKaK"
   },
   "outputs": [],
   "source": [
    "#@title setup\n",
    "%time\n",
    "import os\n",
    "if not os.path.isdir(\"params\"):\n",
    "  # download params\n",
    "  os.system(\"mkdir params\")\n",
    "  #os.system(\"apt-get install aria2 -qq\")\n",
    "  os.system(\"wget https://storage.googleapis.com/alphafold/alphafold_params_2022-12-06.tar\")\n",
    "  os.system(\"tar -xf alphafold_params_2022-12-06.tar -C params\")\n",
    "\n",
    "import warnings\n",
    "warnings.simplefilter(action='ignore', category=FutureWarning)\n",
    "\n",
    "import os\n",
    "from colabdesign import mk_afdesign_model, clear_mem\n",
    "from IPython.display import HTML\n",
    "import numpy as np\n",
    "\n",
    "def get_pdb(pdb_code=\"\"):\n",
    "  if pdb_code is None or pdb_code == \"\":\n",
    "    upload_dict = files.upload()\n",
    "    pdb_string = upload_dict[list(upload_dict.keys())[0]]\n",
    "    with open(\"tmp.pdb\",\"wb\") as out: out.write(pdb_string)\n",
    "    return \"tmp.pdb\"\n",
    "  elif os.path.isfile(pdb_code):\n",
    "    return pdb_code\n",
    "  elif len(pdb_code) == 4:\n",
    "    os.system(f\"wget -qnc https://files.rcsb.org/view/{pdb_code}.pdb\")\n",
    "    return f\"{pdb_code}.pdb\"\n",
    "  else:\n",
    "    os.system(f\"wget -qnc https://alphafold.ebi.ac.uk/files/AF-{pdb_code}-F1-model_v3.pdb\")\n",
    "    return f\"AF-{pdb_code}-F1-model_v3.pdb\""
   ]
  },
  {
   "cell_type": "markdown",
   "metadata": {
    "id": "dXfm4B8ISLuL"
   },
   "source": [
    "# Constrained hallucination: designing an mdm2 binder\n",
    "\n",
    "For a given protein target and protein binder length, generate/hallucinate a protein binder sequence AlphaFold thinks will bind to the target structure.\n",
    "\n",
    "To do this, we minimize PAE and maximize number of contacts at the interface and within the binder, and we maximize pLDDT of the binder.\n",
    "By default, AlphaFold-ptm with residue index offset hack is used. To enable AlphaFold-multimer set: mk_afdesign_model(use_multimer=True).\n"
   ]
  },
  {
   "cell_type": "markdown",
   "metadata": {},
   "source": [
    "# Prepare to hallucinate binder\n",
    "\n",
    "Specify the binding target with `get_pdb(pdb_string)` and the chain by specifying `chain=chain_letter`.\n",
    "\n",
    "Adjust the number of amino acids in the binder design by specifying `binder_len=number_amino_acids`"
   ]
  },
  {
   "cell_type": "code",
   "execution_count": null,
   "metadata": {
    "id": "3XLJPiRKx5Mw"
   },
   "outputs": [],
   "source": [
    "clear_mem()\n",
    "af_model = mk_afdesign_model(protocol=\"binder\")\n",
    "\n",
    "# define the target sequence/structure and the desired binder length\n",
    "af_model.prep_inputs(pdb_filename=get_pdb(\"1YCR\"), chain=\"A\", binder_len=128)\n",
    "\n",
    "print(\"target_length\",af_model._target_len)\n",
    "print(\"binder_length\",af_model._binder_len)\n",
    "print(\"weights\",af_model.opt[\"weights\"])\n"
   ]
  },
  {
   "cell_type": "markdown",
   "metadata": {},
   "source": [
    "# Run hallucination\n",
    "\n",
    "**Stage 1** starts by applying gradient descent to the sequence logits directly, freely allowing these values to range to very large and even negative magnitudes. Stage 1 gradually switches to gradient descent on softmax(logits)\n",
    "\n",
    "**Stage 2** starts with softmax(logits) and gradually switches to hardmax(logits)\n",
    "\n",
    "**Stage 3** finalizes the design on hardmax(logits)\n",
    "\n",
    "```\n",
    "af_model.design_3stage(stage_1_steps, stage_2_steps, stage_3_steps)\n",
    "```"
   ]
  },
  {
   "cell_type": "code",
   "execution_count": null,
   "metadata": {
    "id": "u6VxjuinyCZa"
   },
   "outputs": [],
   "source": [
    "af_model.restart()\n",
    "%time\n",
    "af_model.design_3stage(100,100,10)"
   ]
  },
  {
   "cell_type": "markdown",
   "metadata": {},
   "source": [
    "# Save design structure"
   ]
  },
  {
   "cell_type": "code",
   "execution_count": null,
   "metadata": {
    "id": "sTlS7_L8Zfwf"
   },
   "outputs": [],
   "source": [
    "af_model.save_pdb(f\"./mdm2_binder.pdb\")"
   ]
  },
  {
   "cell_type": "markdown",
   "metadata": {},
   "source": [
    "# Plot results"
   ]
  },
  {
   "cell_type": "code",
   "execution_count": null,
   "metadata": {
    "id": "9cARoviGyIKb"
   },
   "outputs": [],
   "source": [
    "HTML(af_model.animate())"
   ]
  },
  {
   "cell_type": "code",
   "execution_count": null,
   "metadata": {},
   "outputs": [],
   "source": [
    "af_model.plot_pdb()"
   ]
  },
  {
   "cell_type": "markdown",
   "metadata": {},
   "source": [
    "# Show design sequence"
   ]
  },
  {
   "cell_type": "code",
   "execution_count": null,
   "metadata": {
    "id": "RzE137NDZdZc"
   },
   "outputs": [],
   "source": [
    "af_model.get_seqs()"
   ]
  }
 ],
 "metadata": {
  "accelerator": "GPU",
  "colab": {
   "collapsed_sections": [
    "q4qiU9I0QHSz"
   ],
   "include_colab_link": true,
   "name": "design.ipynb",
   "provenance": []
  },
  "kernelspec": {
   "display_name": "Python 3 (ipykernel)",
   "language": "python",
   "name": "python3"
  },
  "language_info": {
   "codemirror_mode": {
    "name": "ipython",
    "version": 3
   },
   "file_extension": ".py",
   "mimetype": "text/x-python",
   "name": "python",
   "nbconvert_exporter": "python",
   "pygments_lexer": "ipython3",
   "version": "3.8.0"
  }
 },
 "nbformat": 4,
 "nbformat_minor": 4
}
